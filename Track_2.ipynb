{
 "cells": [
  {
   "cell_type": "code",
   "execution_count": 2,
   "metadata": {},
   "outputs": [],
   "source": [
    "# import dependencies\n",
    "\n",
    "import os, io, requests, zipfile\n",
    "import itertools\n",
    "import datetime\n",
    "import pandas as pd\n",
    "import seaborn as sns\n",
    "import numpy as np\n",
    "import matplotlib.pyplot as plt\n",
    "import datetime, time\n",
    "from sklearn.metrics.pairwise import cosine_similarity as cos_sig\n",
    "\n",
    "from geopy.distance import great_circle\n",
    "plt.rcParams['figure.figsize'] = 10,6\n",
    "import warnings\n",
    "warnings.filterwarnings(\"ignore\")"
   ]
  },
  {
   "cell_type": "code",
   "execution_count": 3,
   "metadata": {},
   "outputs": [
    {
     "name": "stdout",
     "output_type": "stream",
     "text": [
      "(11341146, 16)\n"
     ]
    }
   ],
   "source": [
    "def download_ais_data(year, month, zone, data_dir='./data'):\n",
    "    '''function to download ais data from https://marinecadastre.gov/ais/ \n",
    "    and return corresponding pandas dataframe'''\n",
    "    \n",
    "    # create data directory\n",
    "    if not os.path.exists(data_dir):\n",
    "        os.makedirs(data_dir)\n",
    "    \n",
    "    # create path to csv file\n",
    "    csv_file = 'AIS_{}_{}_Zone{}.csv'.format(year, str(month).zfill(2), str(zone).zfill(2))\n",
    "    csv_path = os.path.join(data_dir, 'AIS_ASCII_by_UTM_Month', str(year), csv_file)\n",
    "        \n",
    "    try:\n",
    "        # read csv if already downloaded\n",
    "        data = pd.read_csv(csv_path)\n",
    "    except:\n",
    "        # create zip file url\n",
    "        zip_file_url = ('https://coast.noaa.gov/htdata/CMSP/AISDataHandler/'\n",
    "                        '{}/AIS_{}_{}_Zone{}.zip'.format(year, year, \n",
    "                                                         str(month).zfill(2), \n",
    "                                                         str(zone).zfill(2)))\n",
    "        # download and extract data\n",
    "        r = requests.get(zip_file_url, stream=True)\n",
    "        z = zipfile.ZipFile(io.BytesIO(r.content))\n",
    "        z.extractall(data_dir)\n",
    "\n",
    "        # load csv as dataframe\n",
    "        data = pd.read_csv(csv_path)\n",
    "\n",
    "    return data\n",
    "\n",
    "dfLASD = download_ais_data(2017,6,11)\n",
    "print(dfLASD.shape)"
   ]
  },
  {
   "cell_type": "code",
   "execution_count": 4,
   "metadata": {},
   "outputs": [
    {
     "name": "stdout",
     "output_type": "stream",
     "text": [
      "(10019514, 16)\n"
     ]
    },
    {
     "data": {
      "text/html": [
       "<div>\n",
       "<style>\n",
       "    .dataframe thead tr:only-child th {\n",
       "        text-align: right;\n",
       "    }\n",
       "\n",
       "    .dataframe thead th {\n",
       "        text-align: left;\n",
       "    }\n",
       "\n",
       "    .dataframe tbody tr th {\n",
       "        vertical-align: top;\n",
       "    }\n",
       "</style>\n",
       "<table border=\"1\" class=\"dataframe\">\n",
       "  <thead>\n",
       "    <tr style=\"text-align: right;\">\n",
       "      <th></th>\n",
       "      <th>MMSI</th>\n",
       "      <th>BaseDateTime</th>\n",
       "      <th>LAT</th>\n",
       "      <th>LON</th>\n",
       "      <th>SOG</th>\n",
       "      <th>COG</th>\n",
       "      <th>Heading</th>\n",
       "      <th>VesselName</th>\n",
       "      <th>IMO</th>\n",
       "      <th>CallSign</th>\n",
       "      <th>VesselType</th>\n",
       "      <th>Status</th>\n",
       "      <th>Length</th>\n",
       "      <th>Width</th>\n",
       "      <th>Draft</th>\n",
       "      <th>Cargo</th>\n",
       "    </tr>\n",
       "  </thead>\n",
       "  <tbody>\n",
       "    <tr>\n",
       "      <th>0</th>\n",
       "      <td>338108787</td>\n",
       "      <td>2017-06-01T00:00:00</td>\n",
       "      <td>34.40449</td>\n",
       "      <td>-119.69123</td>\n",
       "      <td>0.0</td>\n",
       "      <td>63.1</td>\n",
       "      <td>511.0</td>\n",
       "      <td>NaN</td>\n",
       "      <td>NaN</td>\n",
       "      <td>NaN</td>\n",
       "      <td>NaN</td>\n",
       "      <td>NaN</td>\n",
       "      <td>NaN</td>\n",
       "      <td>NaN</td>\n",
       "      <td>NaN</td>\n",
       "      <td>NaN</td>\n",
       "    </tr>\n",
       "    <tr>\n",
       "      <th>1</th>\n",
       "      <td>338067800</td>\n",
       "      <td>2017-06-01T00:00:26</td>\n",
       "      <td>33.98221</td>\n",
       "      <td>-118.45072</td>\n",
       "      <td>0.0</td>\n",
       "      <td>-133.4</td>\n",
       "      <td>511.0</td>\n",
       "      <td>NaN</td>\n",
       "      <td>NaN</td>\n",
       "      <td>NaN</td>\n",
       "      <td>NaN</td>\n",
       "      <td>NaN</td>\n",
       "      <td>NaN</td>\n",
       "      <td>NaN</td>\n",
       "      <td>NaN</td>\n",
       "      <td>NaN</td>\n",
       "    </tr>\n",
       "    <tr>\n",
       "      <th>2</th>\n",
       "      <td>338131199</td>\n",
       "      <td>2017-06-01T00:00:07</td>\n",
       "      <td>33.75583</td>\n",
       "      <td>-118.11642</td>\n",
       "      <td>0.0</td>\n",
       "      <td>-78.8</td>\n",
       "      <td>511.0</td>\n",
       "      <td>NaN</td>\n",
       "      <td>NaN</td>\n",
       "      <td>NaN</td>\n",
       "      <td>NaN</td>\n",
       "      <td>undefined</td>\n",
       "      <td>NaN</td>\n",
       "      <td>NaN</td>\n",
       "      <td>NaN</td>\n",
       "      <td>NaN</td>\n",
       "    </tr>\n",
       "    <tr>\n",
       "      <th>3</th>\n",
       "      <td>338103724</td>\n",
       "      <td>2017-06-01T00:00:46</td>\n",
       "      <td>32.71513</td>\n",
       "      <td>-117.56661</td>\n",
       "      <td>10.0</td>\n",
       "      <td>88.6</td>\n",
       "      <td>511.0</td>\n",
       "      <td>NaN</td>\n",
       "      <td>NaN</td>\n",
       "      <td>NaN</td>\n",
       "      <td>NaN</td>\n",
       "      <td>NaN</td>\n",
       "      <td>NaN</td>\n",
       "      <td>NaN</td>\n",
       "      <td>NaN</td>\n",
       "      <td>NaN</td>\n",
       "    </tr>\n",
       "    <tr>\n",
       "      <th>4</th>\n",
       "      <td>338092107</td>\n",
       "      <td>2017-06-01T00:00:59</td>\n",
       "      <td>33.72581</td>\n",
       "      <td>-118.07638</td>\n",
       "      <td>0.0</td>\n",
       "      <td>57.1</td>\n",
       "      <td>511.0</td>\n",
       "      <td>NaN</td>\n",
       "      <td>NaN</td>\n",
       "      <td>NaN</td>\n",
       "      <td>NaN</td>\n",
       "      <td>NaN</td>\n",
       "      <td>NaN</td>\n",
       "      <td>NaN</td>\n",
       "      <td>NaN</td>\n",
       "      <td>NaN</td>\n",
       "    </tr>\n",
       "  </tbody>\n",
       "</table>\n",
       "</div>"
      ],
      "text/plain": [
       "        MMSI         BaseDateTime       LAT        LON   SOG    COG  Heading  \\\n",
       "0  338108787  2017-06-01T00:00:00  34.40449 -119.69123   0.0   63.1    511.0   \n",
       "1  338067800  2017-06-01T00:00:26  33.98221 -118.45072   0.0 -133.4    511.0   \n",
       "2  338131199  2017-06-01T00:00:07  33.75583 -118.11642   0.0  -78.8    511.0   \n",
       "3  338103724  2017-06-01T00:00:46  32.71513 -117.56661  10.0   88.6    511.0   \n",
       "4  338092107  2017-06-01T00:00:59  33.72581 -118.07638   0.0   57.1    511.0   \n",
       "\n",
       "  VesselName  IMO CallSign  VesselType     Status  Length  Width  Draft  Cargo  \n",
       "0        NaN  NaN      NaN         NaN        NaN     NaN    NaN    NaN    NaN  \n",
       "1        NaN  NaN      NaN         NaN        NaN     NaN    NaN    NaN    NaN  \n",
       "2        NaN  NaN      NaN         NaN  undefined     NaN    NaN    NaN    NaN  \n",
       "3        NaN  NaN      NaN         NaN        NaN     NaN    NaN    NaN    NaN  \n",
       "4        NaN  NaN      NaN         NaN        NaN     NaN    NaN    NaN    NaN  "
      ]
     },
     "execution_count": 4,
     "metadata": {},
     "output_type": "execute_result"
    }
   ],
   "source": [
    "tugs = [21,22,31,32,52,1023,1025]\n",
    "dfLASD = dfLASD[~dfLASD['VesselType'].isin(tugs)]\n",
    "print(dfLASD.shape)\n",
    "dfLASD.head()"
   ]
  },
  {
   "cell_type": "code",
   "execution_count": 5,
   "metadata": {},
   "outputs": [],
   "source": [
    "dfLASD['BaseDateTime'] = pd.to_datetime(dfLASD['BaseDateTime'], errors='raise')\n",
    "dfLASD['date'] = dfLASD.BaseDateTime.apply(lambda x: x.date())\n"
   ]
  },
  {
   "cell_type": "code",
   "execution_count": 6,
   "metadata": {},
   "outputs": [],
   "source": [
    "minTime = min(dfLASD['BaseDateTime'])\n",
    "dfLASD['SecTime'] = dfLASD.BaseDateTime.apply(lambda x: time.mktime(x.timetuple()) - time.mktime(minTime.timetuple()))"
   ]
  },
  {
   "cell_type": "code",
   "execution_count": 6,
   "metadata": {},
   "outputs": [],
   "source": [
    "# %%time\n",
    "# interval = 150  #time interval (seconds) \n",
    "# distance = 24000 #24,000feet = 8000 yards \n",
    "# # neighbor_vessels = pd.DataFrame(columns= dfLASD.columns)\n",
    "\n",
    "# df1 = dfLASD.sort_values(by='SecTime', ascending=True) #this is the dataframe to look for matches within\n",
    "# df1 = df1.dropna(how='any') \n",
    "# df1 = df1.iloc[:200] #subsetting to 2000 rows for proof of concept\n",
    "\n",
    "# # for i,v in enumerate(df1.BaseDateTime.values): \n",
    "    \n",
    "# # #     df2 = df1.iloc[i+1:,] #removing rows we've already iterated through\n",
    "# # #     time_min = v - pd.Timedelta(seconds=interval)\n",
    "# # #     colArr = np.array([None]*16)\n",
    "# #     time_max = v + pd.Timedelta(seconds=interval) \n",
    "# # #     temp_df = df2[(df2.BaseDateTime > time_min)&(df2.BaseDateTime < time_max)] #makes temp df of datapoints close in time\n",
    "# #     for ii, vv in enumerate(df1.iloc[i+2]['BaseDateTime'].values):\n",
    "# #         if(df1.iloc[ii]['BaseDateTime'] <= time_max):\n",
    "# #             neighbor_vessels = neighbor_vessels.append(df1.iloc[ii])\n",
    "# #         else:\n",
    "# #             break\n",
    "            \n",
    "    \n",
    "        \n",
    "    \n",
    "# #     #getting data into format to use geopy distance calculator\n",
    "# #     temp_df['latlon'] = list(zip(temp_df.LAT, temp_df.LON)) \n",
    "# #     temp_df['dist'] = temp_df['latlon'].apply(lambda x: great_circle(temp_df.latlon.values[0], x).feet) #calc distances from row 0\n",
    "    \n",
    "# #     closers = temp_df[(np.abs(temp_df.dist) < distance)] #filter points close in time\n",
    "# #     closers = closers.drop_duplicates(subset ='MMSI') #drop duplicates (same boat)\n",
    "    \n",
    "# #     if len(closers) > 1: #if closers includes more than one boat\n",
    "# #         neighbor_vessels = neighbor_vessels.append(closers)\n",
    "\n",
    "\n",
    "# for i, v in enumerate(df1.SecTime.values):\n",
    "#     time_max = v + interval\n",
    "#     for ii, vv in enumerate(df1.SecTime):\n",
    "#         if vv <= time_max:\n",
    "#                 neighbor_vessels = df1[['MMSI', 'BaseDateTime']].iloc[ii]\n",
    "#         else:\n",
    "#             break"
   ]
  },
  {
   "cell_type": "code",
   "execution_count": 7,
   "metadata": {},
   "outputs": [],
   "source": [
    "# %%time\n",
    "# for i, v in enumerate(df1.SecTime.values):\n",
    "#     time_max = v + interval\n",
    "#     for ii, vv in enumerate(df1.SecTime):\n",
    "#         if vv <= time_max:\n",
    "#                 neighbor_vessels = df1[['MMSI', 'BaseDateTime']].iloc[i]\n",
    "#         else:\n",
    "#             break\n",
    "\n",
    "# neighbor_vessels = [df1[['MMSI', 'BaseDateTime']].iloc[i] for i, v in enumerate(df1.SecTime.values) for ii, vv in enumerate(df1.SecTime) if vv <= (v + interval)]\n",
    "\n",
    "\n",
    "# # print(neighbor_vessels[0])"
   ]
  },
  {
   "cell_type": "code",
   "execution_count": 8,
   "metadata": {},
   "outputs": [],
   "source": [
    "# test = np.array(range(0,20))\n",
    "# print(test)\n",
    "# i = 5\n",
    "# for ii in range(i+1, len(test)):\n",
    "#     print(ii)"
   ]
  },
  {
   "cell_type": "code",
   "execution_count": 34,
   "metadata": {},
   "outputs": [
    {
     "name": "stdout",
     "output_type": "stream",
     "text": [
      "2017-06-01\n",
      "(299047, 18)\n",
      "0.0\n",
      "0.1\n",
      "0.2\n",
      "0.3\n",
      "0.4\n",
      "0.5\n",
      "0.6\n",
      "0.7\n",
      "0.8\n",
      "0.9\n",
      "2017-06-02\n",
      "(322742, 18)\n",
      "[[ 1.          0.99099162  0.98513782 ...,  0.99171536  0.99329811\n",
      "   0.99284613]\n",
      " [ 0.99099162  1.          0.99926629 ...,  0.97968047  0.98120765\n",
      "   0.98076522]\n",
      " [ 0.98513782  0.99926629  1.         ...,  0.97284601  0.97436821\n",
      "   0.97392523]\n",
      " ..., \n",
      " [ 0.99171536  0.97968047  0.97284601 ...,  1.          0.99991189\n",
      "   0.99995636]\n",
      " [ 0.99329811  0.98120765  0.97436821 ...,  0.99991189  1.          0.99999226]\n",
      " [ 0.99284613  0.98076522  0.97392523 ...,  0.99995636  0.99999226  1.        ]]\n",
      "CPU times: user 6min 54s, sys: 6.11 s, total: 7min\n",
      "Wall time: 7min 10s\n"
     ]
    }
   ],
   "source": [
    "%%time\n",
    "di = 0\n",
    "days = 1\n",
    "day_groups = dfLASD.groupby(['date'])\n",
    "for name, group in day_groups:\n",
    "    print(name)\n",
    "    print(group.shape)\n",
    "    if(di >= days):\n",
    "        break\n",
    "    di += 1\n",
    "    dfDay = group.copy()\n",
    "    minSec = dfDay['SecTime'].min()\n",
    "    maxSec = dfDay['SecTime'].max()\n",
    "    minLat = dfDay['LAT'].min()\n",
    "    maxLat = dfDay['LAT'].max()\n",
    "    minLon = dfDay['LON'].min()\n",
    "    maxLon = dfDay['LON'].max()\n",
    "    dfDay['NormSecTime'] = (dfDay['SecTime'] - minSec) / (maxSec - minSec) * (0.01 / (150 / (maxSec - minSec)))\n",
    "    dfDay['NormLat'] = (dfDay['LAT'] - minLat) / (maxLat - minLat) * (0.01 / (0.1 / (maxLat - minLat)))\n",
    "    dfDay['NormLon'] = (dfDay['LON'] - minLon) / (maxLon - minLon) * (0.01 / (0.065 / (maxLon - minLon)))\n",
    "    mxDay = dfDay[['NormSecTime', 'NormLat', 'NormLon']].iloc[:8000].values \n",
    "    d = np.matmul(mxDay,mxDay.transpose())\n",
    "    for i in range(len(mxDay)):\n",
    "        if(i % (int(len(mxDay)/ 10)) == 0):\n",
    "            print(i/8000)\n",
    "        A = np.linalg.norm(mxDay[i,:])\n",
    "        for j in range(len(mxDay.transpose()[0])):\n",
    "            B = np.linalg.norm(mxDay.transpose()[:,j])\n",
    "            d[i,j] = d[i,j] / (A * B)\n",
    "\n",
    "print(d)"
   ]
  },
  {
   "cell_type": "code",
   "execution_count": 71,
   "metadata": {},
   "outputs": [],
   "source": [
    "dfL = pd.read_csv('data/AIS_LA_SD_Jan_1_to_15_2016_Filtered_by_Proximity.csv')\n",
    "dfRes = pd.DataFrame(columns = dfL.columns)"
   ]
  },
  {
   "cell_type": "code",
   "execution_count": 81,
   "metadata": {},
   "outputs": [
    {
     "name": "stdout",
     "output_type": "stream",
     "text": [
      "0.0\n",
      "0.1\n",
      "0.2\n",
      "0.3\n",
      "0.4\n",
      "0.5\n",
      "0.6\n",
      "0.7\n",
      "0.8\n",
      "0.9\n",
      "[(0, 1), (0, 12), (0, 19), (0, 20), (0, 36)]\n"
     ]
    }
   ],
   "source": [
    "r = len(d)\n",
    "clrgArr = []\n",
    "for i in range(r):\n",
    "    if(i % (int(r/ 10)) == 0):\n",
    "           print(i/8000)\n",
    "    for j in range(i+1,r):\n",
    "        if(d[i][j] >= 0.99):\n",
    "            clrgArr.append((i,j))\n",
    "#     df\n",
    "print(clrgArr[:5])"
   ]
  },
  {
   "cell_type": "code",
   "execution_count": 114,
   "metadata": {},
   "outputs": [
    {
     "name": "stdout",
     "output_type": "stream",
     "text": [
      "0\n"
     ]
    }
   ],
   "source": []
  },
  {
   "cell_type": "code",
   "execution_count": 122,
   "metadata": {},
   "outputs": [
    {
     "name": "stdout",
     "output_type": "stream",
     "text": [
      "CPU times: user 9.82 s, sys: 13 s, total: 22.8 s\n",
      "Wall time: 28.1 s\n"
     ]
    }
   ],
   "source": [
    "%%time\n",
    "cs = ['MMSI','BaseDateTime','LAT','LON','SOG','COG','Heading',\n",
    "     'VesselName','IMO','CallSign','VesselType','Status','Length',\n",
    "     'Width','Draft','Cargo']\n",
    "shipsArr = np.array([None] * 33)\n",
    "\n",
    "for x in range(10):\n",
    "    i = clrgArr[x][0]\n",
    "    j = clrgArr[x][1]\n",
    "    if dfLASD.at[i,'MMSI'] != dfLASD.at[j,'MMSI']:\n",
    "        ship1 = dfLASD[cs].iloc[i].values\n",
    "#         print(ship1[0])\n",
    "        ship2 = dfLASD[cs].iloc[j].values\n",
    "        shipsArr[0] = x\n",
    "        shipsArr[1:17] = ship1\n",
    "        shipsArr[17:] = ship2\n",
    "#         print(shipsArr)\n",
    "        dfRes = dfRes.append(pd.Series(shipsArr), ignore_index = True)\n"
   ]
  },
  {
   "cell_type": "code",
   "execution_count": 103,
   "metadata": {},
   "outputs": [
    {
     "name": "stdout",
     "output_type": "stream",
     "text": [
      "   ID  MMSI_1  Timestamp_1  LAT_1  LON_1  SOG_1  COG_1  Heading_1  \\\n",
      "0 NaN     NaN          NaN    NaN    NaN    NaN    NaN        NaN   \n",
      "1 NaN     NaN          NaN    NaN    NaN    NaN    NaN        NaN   \n",
      "2 NaN     NaN          NaN    NaN    NaN    NaN    NaN        NaN   \n",
      "3 NaN     NaN          NaN    NaN    NaN    NaN    NaN        NaN   \n",
      "4 NaN     NaN          NaN    NaN    NaN    NaN    NaN        NaN   \n",
      "\n",
      "   Vessel Name_1  IMO_1 ...     23        24   25   26      27  \\\n",
      "0            NaN    NaN ...  511.0       NaN  NaN  NaN     NaN   \n",
      "1            NaN    NaN ...  511.0       NaN  NaN  NaN     NaN   \n",
      "2            NaN    NaN ...  511.0       NaN  NaN  NaN     NaN   \n",
      "3            NaN    NaN ...  511.0       NaN  NaN  NaN     NaN   \n",
      "4            NaN    NaN ...  511.0  MARE'ZIA  NaN  NaN  1019.0   \n",
      "\n",
      "                       28     29   30  31  32  \n",
      "0                     NaN    NaN  NaN NaN NaN  \n",
      "1                     NaN    NaN  NaN NaN NaN  \n",
      "2  under way using engine    NaN  NaN NaN NaN  \n",
      "3                     NaN    NaN  NaN NaN NaN  \n",
      "4                     NaN  12.34  3.8 NaN NaN  \n",
      "\n",
      "[5 rows x 66 columns]\n"
     ]
    }
   ],
   "source": [
    "print(dfRes.head())"
   ]
  },
  {
   "cell_type": "code",
   "execution_count": 35,
   "metadata": {},
   "outputs": [
    {
     "name": "stdout",
     "output_type": "stream",
     "text": [
      "2.9575\n",
      "0.89216\n",
      "5.75993333333\n"
     ]
    }
   ],
   "source": [
    "print(0.01 / (0.1 / (maxLat - minLat)))      \n",
    "print(0.01 / (0.065 / (maxLon - minLon)))\n",
    "print(0.01 / (150 / (maxSec - minSec)))\n"
   ]
  },
  {
   "cell_type": "code",
   "execution_count": 96,
   "metadata": {},
   "outputs": [
    {
     "name": "stdout",
     "output_type": "stream",
     "text": [
      "Index(['MMSI', 'BaseDateTime', 'LAT', 'LON', 'SOG', 'COG', 'Heading',\n",
      "       'VesselName', 'IMO', 'CallSign', 'VesselType', 'Status', 'Length',\n",
      "       'Width', 'Draft', 'Cargo', 'date', 'SecTime'],\n",
      "      dtype='object')\n"
     ]
    }
   ],
   "source": [
    "print(dfLASD.columns)"
   ]
  },
  {
   "cell_type": "code",
   "execution_count": 95,
   "metadata": {},
   "outputs": [
    {
     "name": "stdout",
     "output_type": "stream",
     "text": [
      "[2, 3, 4]\n",
      "[5, 6, 7]\n"
     ]
    }
   ],
   "source": [
    "a = [1,2,3,4,5,6,7]\n",
    "print(a[1:4])\n",
    "print(a[4:])"
   ]
  },
  {
   "cell_type": "code",
   "execution_count": 97,
   "metadata": {},
   "outputs": [
    {
     "name": "stdout",
     "output_type": "stream",
     "text": [
      "15\n"
     ]
    }
   ],
   "source": [
    "c = ['MMSI','LAT','LON','SOG','COG','Heading',\n",
    "     'VesselName','IMO','CallSign','VesselType','Status','Length',\n",
    "     'Width','Draft','Cargo']\n",
    "print(len(c))"
   ]
  },
  {
   "cell_type": "code",
   "execution_count": 116,
   "metadata": {},
   "outputs": [
    {
     "name": "stdout",
     "output_type": "stream",
     "text": [
      "22906783\n"
     ]
    }
   ],
   "source": [
    "print(len(clrgArr))"
   ]
  },
  {
   "cell_type": "code",
   "execution_count": null,
   "metadata": {},
   "outputs": [],
   "source": []
  }
 ],
 "metadata": {
  "kernelspec": {
   "display_name": "Python 3",
   "language": "python",
   "name": "python3"
  },
  "language_info": {
   "codemirror_mode": {
    "name": "ipython",
    "version": 3
   },
   "file_extension": ".py",
   "mimetype": "text/x-python",
   "name": "python",
   "nbconvert_exporter": "python",
   "pygments_lexer": "ipython3",
   "version": "3.6.1"
  }
 },
 "nbformat": 4,
 "nbformat_minor": 2
}
